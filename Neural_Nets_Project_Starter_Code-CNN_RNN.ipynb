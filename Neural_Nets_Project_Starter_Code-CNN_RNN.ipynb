{
 "cells": [
  {
   "cell_type": "markdown",
   "metadata": {},
   "source": [
    "# Gesture Recognition\n",
    "In this group project, you are going to build a 3D Conv model that will be able to predict the 5 gestures correctly. Please import the following libraries to get started."
   ]
  },
  {
   "cell_type": "code",
   "execution_count": 59,
   "metadata": {},
   "outputs": [],
   "source": [
    "import numpy as np\n",
    "import os\n",
    "from scipy.misc import imread, imresize\n",
    "import datetime\n",
    "import os\n",
    "from skimage.transform import resize #Library to resize images to a target size."
   ]
  },
  {
   "cell_type": "markdown",
   "metadata": {},
   "source": [
    "We set the random seed so that the results don't vary drastically."
   ]
  },
  {
   "cell_type": "code",
   "execution_count": 60,
   "metadata": {},
   "outputs": [],
   "source": [
    "np.random.seed(30)\n",
    "import random as rn\n",
    "rn.seed(30)\n",
    "from keras import backend as K\n",
    "import tensorflow as tf\n",
    "tf.set_random_seed(30)"
   ]
  },
  {
   "cell_type": "markdown",
   "metadata": {},
   "source": [
    "In this block, you read the folder names for training and validation. You also set the `batch_size` here. Note that you set the batch size in such a way that you are able to use the GPU in full capacity. You keep increasing the batch size until the machine throws an error."
   ]
  },
  {
   "cell_type": "code",
   "execution_count": 61,
   "metadata": {},
   "outputs": [],
   "source": [
    "train_doc = np.random.permutation(open('C:\\\\Users\\\\varma\\\\Downloads\\\\Project_data\\\\Project_data\\\\train.csv').readlines())\n",
    "val_doc = np.random.permutation(open('C:\\\\Users\\\\varma\\\\Downloads\\\\Project_data\\\\Project_data\\\\val.csv').readlines())\n",
    "batch_size = 10"
   ]
  },
  {
   "cell_type": "markdown",
   "metadata": {},
   "source": [
    "## Generator\n",
    "This is one of the most important part of the code. The overall structure of the generator has been given. In the generator, you are going to preprocess the images as you have images of 2 different dimensions as well as create a batch of video frames. You have to experiment with `img_idx`, `y`,`z` and normalization such that you get high accuracy."
   ]
  },
  {
   "cell_type": "code",
   "execution_count": 62,
   "metadata": {},
   "outputs": [],
   "source": [
    "def generator(source_path, folder_list, batch_size):\n",
    "    print( 'Source path = ', source_path, '; batch size =', batch_size)\n",
    "    img_idx = np.arange(0,30)\n",
    "    while True:\n",
    "        t = np.random.permutation(folder_list)\n",
    "        num_batches = round(len(folder_list) / batch_size)\n",
    "        for batch in range(num_batches):\n",
    "            #print(\"batch:\",batch)# we iterate over the number of batches\n",
    "            batch_data = np.zeros((batch_size,30,100,100,3)) # x is the number of images you use for each video, (y,z) is the final size of the input images and 3 is the number of channels RGB\n",
    "            batch_labels = np.zeros((batch_size,5)) # batch_labels is the one hot representation of the output\n",
    "            for folder in range(batch_size): # iterate over the batch_size\n",
    "                imgs = os.listdir(source_path+'/'+ t[folder + (batch*batch_size)].split(';')[0]) # read all the images in the folder\n",
    "                for idx,item in enumerate(img_idx): #  Iterate iver the frames/images of a folder to read them in\n",
    "                    image = imread(source_path+'/'+ t[folder + (batch*batch_size)].strip().split(';')[0]+'/'+imgs[item]).astype(np.float32)\n",
    "                    \n",
    "                    #code to resize the images\n",
    "                    image = imresize(image, (100,100))\n",
    "                    \n",
    "                    #crop the images and resize them. Note that the images are of 2 different shape \n",
    "                    #and the conv3D will throw error if the inputs in a batch have different shapes\n",
    "\n",
    "                    batch_data[folder,idx,:,:,0] = image[:, : , 0] - np.min(image[:, : , 0])/np.max(image[:, : , 0]) - np.min(image[:, : , 0])\n",
    "                    batch_data[folder,idx,:,:,1] = image[:, : , 1] - np.min(image[:, : , 1])/np.max(image[:, : , 1]) - np.min(image[:, : , 1])\n",
    "                    batch_data[folder,idx,:,:,2] = image[:, : , 2] - np.min(image[:, : , 2])/np.max(image[:, : , 2]) - np.min(image[:, : , 2])\n",
    "                    \n",
    "                batch_labels[folder, int(t[folder + (batch*batch_size)].strip().split(';')[2])] = 1\n",
    "            yield batch_data, batch_labels #you yield the batch_data and the batch_labels, remember what does yield do\n",
    "            \n",
    "        \n",
    "        # write the code for the remaining data points which are left after full batches\n"
   ]
  },
  {
   "cell_type": "markdown",
   "metadata": {},
   "source": [
    "Note here that a video is represented above in the generator as (number of images, height, width, number of channels). Take this into consideration while creating the model architecture."
   ]
  },
  {
   "cell_type": "code",
   "execution_count": 63,
   "metadata": {},
   "outputs": [
    {
     "name": "stdout",
     "output_type": "stream",
     "text": [
      "# training sequences = 663\n",
      "# validation sequences = 100\n",
      "# epochs = 3\n"
     ]
    }
   ],
   "source": [
    "curr_dt_time = datetime.datetime.now()\n",
    "train_path = 'C:\\\\Users\\\\varma\\\\Downloads\\\\Project_data\\\\Project_data\\\\train'\n",
    "val_path = 'C:\\\\Users\\\\varma\\\\Downloads\\\\Project_data\\\\Project_data\\\\val'\n",
    "num_train_sequences = len(train_doc)\n",
    "print('# training sequences =', num_train_sequences)\n",
    "num_val_sequences = len(val_doc)\n",
    "print('# validation sequences =', num_val_sequences)\n",
    "num_epochs = 3\n",
    "print ('# epochs =', num_epochs)"
   ]
  },
  {
   "cell_type": "markdown",
   "metadata": {},
   "source": [
    "## Model\n",
    "Here you make the model using different functionalities that Keras provides. Remember to use `Conv3D` and `MaxPooling3D` and not `Conv2D` and `Maxpooling2D` for a 3D convolution model. You would want to use `TimeDistributed` while building a Conv2D + RNN model. Also remember that the last layer is the softmax. Design the network in such a way that the model is able to give good accuracy on the least number of parameters so that it can fit in the memory of the webcam."
   ]
  },
  {
   "cell_type": "code",
   "execution_count": 58,
   "metadata": {
    "scrolled": false
   },
   "outputs": [
    {
     "name": "stdout",
     "output_type": "stream",
     "text": [
      "_________________________________________________________________\n",
      "Layer (type)                 Output Shape              Param #   \n",
      "=================================================================\n",
      "TimeDist_Conv2D_32 (TimeDist (None, 30, 98, 98, 32)    896       \n",
      "_________________________________________________________________\n",
      "TimeDist_Conv2D_64 (TimeDist (None, 30, 96, 96, 64)    18496     \n",
      "_________________________________________________________________\n",
      "TimeDist_MaxPool (TimeDistri (None, 30, 48, 48, 64)    0         \n",
      "_________________________________________________________________\n",
      "TimeDist_Conv2D_128 (TimeDis (None, 30, 46, 46, 128)   73856     \n",
      "_________________________________________________________________\n",
      "TimeDist_MaxPool_2 (TimeDist (None, 30, 23, 23, 128)   0         \n",
      "_________________________________________________________________\n",
      "TimeDist_Flatten (TimeDistri (None, 30, 67712)         0         \n",
      "_________________________________________________________________\n",
      "LSTM_128 (LSTM)              (None, 30, 128)           34734592  \n",
      "_________________________________________________________________\n",
      "LSTM_64_2 (LSTM)             (None, 64)                49408     \n",
      "_________________________________________________________________\n",
      "dense_12 (Dense)             (None, 5)                 325       \n",
      "=================================================================\n",
      "Total params: 34,877,573\n",
      "Trainable params: 34,877,573\n",
      "Non-trainable params: 0\n",
      "_________________________________________________________________\n",
      "None\n"
     ]
    }
   ],
   "source": [
    "from keras.models import Sequential, Model\n",
    "from keras.layers import Dense,LSTM, GRU, Flatten, TimeDistributed, Flatten, BatchNormalization, Activation\n",
    "from keras.layers.convolutional import Conv2D, MaxPooling2D\n",
    "from keras.layers import Dense, Dropout, Flatten\n",
    "from keras.callbacks import ModelCheckpoint, ReduceLROnPlateau\n",
    "from keras import optimizers\n",
    "import keras\n",
    "\n",
    "input_shape = (30,100, 100, 3)\n",
    "num_classes = 5\n",
    "#Conv3D model architecture\n",
    "CNNLSTM_Model = Sequential()\n",
    "\n",
    "\n",
    "# define CNN model\n",
    "CNNLSTM_Model.add(TimeDistributed(Conv2D(32, kernel_size=(3, 3), strides=(1, 1), activation='relu')\n",
    "                                  ,input_shape=input_shape,name = \"TimeDist_Conv2D_32\")) \n",
    "\n",
    "CNNLSTM_Model.add(TimeDistributed(Conv2D(64, kernel_size=(3, 3), strides=(1, 1), activation='relu'),name = \"TimeDist_Conv2D_64\"))\n",
    "CNNLSTM_Model.add(TimeDistributed(MaxPooling2D(pool_size=(2, 2)),name = \"TimeDist_MaxPool\"))\n",
    "\n",
    "CNNLSTM_Model.add(TimeDistributed(Conv2D(128, kernel_size=(3, 3), strides=(1, 1), activation='relu'),name = \"TimeDist_Conv2D_128\"))\n",
    "CNNLSTM_Model.add(TimeDistributed(MaxPooling2D(pool_size=(2, 2)),name = \"TimeDist_MaxPool_2\"))\n",
    "\n",
    "CNNLSTM_Model.add(TimeDistributed(Flatten(),name = \"TimeDist_Flatten\"))\n",
    "\n",
    "# define LSTM model\n",
    "CNNLSTM_Model.add(LSTM(128, return_sequences=True, name = \"LSTM_128\"))\n",
    "\n",
    "CNNLSTM_Model.add(LSTM(64, return_sequences=False, name = \"LSTM_64_2\"))\n",
    "\n",
    "CNNLSTM_Model.add(Dense(num_classes, activation='softmax'))\n",
    "\n",
    "print(CNNLSTM_Model.summary())"
   ]
  },
  {
   "cell_type": "markdown",
   "metadata": {},
   "source": [
    "Now that you have written the model, the next step is to `compile` the model. When you print the `summary` of the model, you'll see the total number of parameters you have to train."
   ]
  },
  {
   "cell_type": "code",
   "execution_count": 65,
   "metadata": {
    "scrolled": true
   },
   "outputs": [
    {
     "name": "stdout",
     "output_type": "stream",
     "text": [
      "_________________________________________________________________\n",
      "Layer (type)                 Output Shape              Param #   \n",
      "=================================================================\n",
      "TimeDist_Conv2D_32 (TimeDist (None, 30, 98, 98, 32)    896       \n",
      "_________________________________________________________________\n",
      "TimeDist_Conv2D_64 (TimeDist (None, 30, 96, 96, 64)    18496     \n",
      "_________________________________________________________________\n",
      "TimeDist_MaxPool (TimeDistri (None, 30, 48, 48, 64)    0         \n",
      "_________________________________________________________________\n",
      "TimeDist_Conv2D_128 (TimeDis (None, 30, 46, 46, 128)   73856     \n",
      "_________________________________________________________________\n",
      "TimeDist_MaxPool_2 (TimeDist (None, 30, 23, 23, 128)   0         \n",
      "_________________________________________________________________\n",
      "TimeDist_Flatten (TimeDistri (None, 30, 67712)         0         \n",
      "_________________________________________________________________\n",
      "LSTM_128 (LSTM)              (None, 30, 128)           34734592  \n",
      "_________________________________________________________________\n",
      "LSTM_64_2 (LSTM)             (None, 64)                49408     \n",
      "_________________________________________________________________\n",
      "dense_12 (Dense)             (None, 5)                 325       \n",
      "=================================================================\n",
      "Total params: 34,877,573\n",
      "Trainable params: 34,877,573\n",
      "Non-trainable params: 0\n",
      "_________________________________________________________________\n",
      "None\n"
     ]
    }
   ],
   "source": [
    "optimiser = optimizers.SGD(0.01)\n",
    "CNNLSTM_Model.compile(optimizer=optimiser, loss='categorical_crossentropy', metrics=['categorical_accuracy'])\n",
    "print (CNNLSTM_Model.summary())"
   ]
  },
  {
   "cell_type": "markdown",
   "metadata": {},
   "source": [
    "Let us create the `train_generator` and the `val_generator` which will be used in `.fit_generator`."
   ]
  },
  {
   "cell_type": "code",
   "execution_count": 66,
   "metadata": {},
   "outputs": [],
   "source": [
    "train_generator = generator(train_path, train_doc, batch_size)\n",
    "val_generator = generator(val_path, val_doc, batch_size)"
   ]
  },
  {
   "cell_type": "code",
   "execution_count": 67,
   "metadata": {},
   "outputs": [],
   "source": [
    "model_name = 'CNNLSTM_model_init' + '_' + str(curr_dt_time).replace(' ','').replace(':','_') + '/'\n",
    "    \n",
    "if not os.path.exists(model_name):\n",
    "    os.mkdir(model_name)\n",
    "        \n",
    "filepath = model_name + 'model-{epoch:05d}-{loss:.5f}-{categorical_accuracy:.5f}-{val_loss:.5f}-{val_categorical_accuracy:.5f}.h5'\n",
    "\n",
    "checkpoint = ModelCheckpoint(filepath, monitor='val_loss', verbose=1, save_best_only=False, save_weights_only=False, mode='auto', period=1)\n",
    "\n",
    "LR = ReduceLROnPlateau(patience=1)\n",
    "callbacks_list = [checkpoint, LR]"
   ]
  },
  {
   "cell_type": "markdown",
   "metadata": {},
   "source": [
    "The `steps_per_epoch` and `validation_steps` are used by `fit_generator` to decide the number of next() calls it need to make."
   ]
  },
  {
   "cell_type": "code",
   "execution_count": 68,
   "metadata": {},
   "outputs": [],
   "source": [
    "if (num_train_sequences%batch_size) == 0:\n",
    "    steps_per_epoch = int(num_train_sequences/batch_size)\n",
    "else:\n",
    "    steps_per_epoch = (num_train_sequences//batch_size) + 1\n",
    "\n",
    "if (num_val_sequences%batch_size) == 0:\n",
    "    validation_steps = int(num_val_sequences/batch_size)\n",
    "else:\n",
    "    validation_steps = (num_val_sequences//batch_size) + 1"
   ]
  },
  {
   "cell_type": "markdown",
   "metadata": {},
   "source": [
    "Let us now fit the model. This will start training the model and with the help of the checkpoints, you'll be able to save the model at the end of each epoch."
   ]
  },
  {
   "cell_type": "code",
   "execution_count": 69,
   "metadata": {},
   "outputs": [
    {
     "name": "stdout",
     "output_type": "stream",
     "text": [
      "Source path =  C:\\Users\\varma\\Downloads\\Project_data\\Project_data\\val ; batch size = 10\n",
      "Source path = Epoch 1/3 C:\\Users\\varma\\Downloads\\Project_data\\Project_data\\train ; batch size = 10\n",
      "\n"
     ]
    },
    {
     "name": "stderr",
     "output_type": "stream",
     "text": [
      "C:\\Anaconda\\lib\\site-packages\\ipykernel\\__main__.py:14: DeprecationWarning: `imread` is deprecated!\n",
      "`imread` is deprecated in SciPy 1.0.0, and will be removed in 1.2.0.\n",
      "Use ``imageio.imread`` instead.\n",
      "C:\\Anaconda\\lib\\site-packages\\ipykernel\\__main__.py:17: DeprecationWarning: `imresize` is deprecated!\n",
      "`imresize` is deprecated in SciPy 1.0.0, and will be removed in 1.2.0.\n",
      "Use ``skimage.transform.resize`` instead.\n"
     ]
    },
    {
     "name": "stdout",
     "output_type": "stream",
     "text": [
      "67/67 [==============================] - 145s 2s/step - loss: 1.6212 - categorical_accuracy: 0.2060 - val_loss: 1.6065 - val_categorical_accuracy: 0.2100\n",
      "\n",
      "Epoch 00001: saving model to CNNLSTM_model_init_2018-10-1901_42_56.409139/model-00001-1.62118-0.20597-1.60647-0.21000.h5\n",
      "Epoch 2/3\n",
      "67/67 [==============================] - 140s 2s/step - loss: 1.6218 - categorical_accuracy: 0.1821 - val_loss: 1.6083 - val_categorical_accuracy: 0.2100\n",
      "\n",
      "Epoch 00002: saving model to CNNLSTM_model_init_2018-10-1901_42_56.409139/model-00002-1.62175-0.18209-1.60827-0.21000.h5\n",
      "Epoch 3/3\n",
      "67/67 [==============================] - 143s 2s/step - loss: 1.6107 - categorical_accuracy: 0.1866 - val_loss: 1.6083 - val_categorical_accuracy: 0.2100\n",
      "\n",
      "Epoch 00003: saving model to CNNLSTM_model_init_2018-10-1901_42_56.409139/model-00003-1.61074-0.18657-1.60826-0.21000.h5\n"
     ]
    },
    {
     "data": {
      "text/plain": [
       "<keras.callbacks.History at 0x2d41b918588>"
      ]
     },
     "execution_count": 69,
     "metadata": {},
     "output_type": "execute_result"
    }
   ],
   "source": [
    "CNNLSTM_Model.fit_generator(train_generator, steps_per_epoch=steps_per_epoch, epochs=num_epochs, verbose=1,callbacks=callbacks_list, \n",
    "                     validation_data=val_generator,validation_steps=validation_steps, class_weight=None, workers=1, initial_epoch=0)"
   ]
  },
  {
   "cell_type": "code",
   "execution_count": null,
   "metadata": {},
   "outputs": [],
   "source": []
  }
 ],
 "metadata": {
  "kernelspec": {
   "display_name": "Python [default]",
   "language": "python",
   "name": "python3"
  },
  "language_info": {
   "codemirror_mode": {
    "name": "ipython",
    "version": 3
   },
   "file_extension": ".py",
   "mimetype": "text/x-python",
   "name": "python",
   "nbconvert_exporter": "python",
   "pygments_lexer": "ipython3",
   "version": "3.6.5"
  }
 },
 "nbformat": 4,
 "nbformat_minor": 2
}
