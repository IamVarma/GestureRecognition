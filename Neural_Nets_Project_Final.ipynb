{
 "cells": [
  {
   "cell_type": "markdown",
   "metadata": {},
   "source": [
    "# Gesture Recognition\n",
    "In this group project, you are going to build a 3D Conv model that will be able to predict the 5 gestures correctly. Please import the following libraries to get started."
   ]
  },
  {
   "cell_type": "code",
   "execution_count": 1,
   "metadata": {},
   "outputs": [],
   "source": [
    "import numpy as np\n",
    "import os\n",
    "from scipy.misc import imread, imresize\n",
    "import datetime\n",
    "import os\n",
    "from skimage.transform import resize\n",
    "#Library to resize images to a target size.\n",
    "import numpy as np\n",
    "import matplotlib.pyplot as plt\n",
    "from skimage.morphology import binary_closing, binary_dilation, binary_erosion, binary_opening\n",
    "from skimage.morphology import selem"
   ]
  },
  {
   "cell_type": "markdown",
   "metadata": {},
   "source": [
    "We set the random seed so that the results don't vary drastically."
   ]
  },
  {
   "cell_type": "code",
   "execution_count": 2,
   "metadata": {},
   "outputs": [
    {
     "name": "stderr",
     "output_type": "stream",
     "text": [
      "C:\\Anaconda\\lib\\site-packages\\h5py\\__init__.py:36: FutureWarning: Conversion of the second argument of issubdtype from `float` to `np.floating` is deprecated. In future, it will be treated as `np.float64 == np.dtype(float).type`.\n",
      "  from ._conv import register_converters as _register_converters\n",
      "Using TensorFlow backend.\n"
     ]
    }
   ],
   "source": [
    "np.random.seed(30)\n",
    "import random as rn\n",
    "rn.seed(30)\n",
    "from keras import backend as K\n",
    "import tensorflow as tf\n",
    "tf.set_random_seed(30)"
   ]
  },
  {
   "cell_type": "markdown",
   "metadata": {},
   "source": [
    "In this block, you read the folder names for training and validation. You also set the `batch_size` here. Note that you set the batch size in such a way that you are able to use the GPU in full capacity. You keep increasing the batch size until the machine throws an error."
   ]
  },
  {
   "cell_type": "code",
   "execution_count": 3,
   "metadata": {},
   "outputs": [],
   "source": [
    "#Please set the path as per the dataset location.\n",
    "\n",
    "train_doc = np.random.permutation(open('/notebooks/storage/Final_data/Collated_training/train.csv').readlines())\n",
    "val_doc = np.random.permutation(open('/notebooks/storage/Final_data/Collated_training/val.csv').readlines())\n",
    "batch_size = 10"
   ]
  },
  {
   "cell_type": "markdown",
   "metadata": {},
   "source": [
    "## Generator\n",
    "This is one of the most important part of the code. The overall structure of the generator has been given. In the generator, you are going to preprocess the images as you have images of 2 different dimensions as well as create a batch of video frames. You have to experiment with `img_idx`, `y`,`z` and normalization such that you get high accuracy."
   ]
  },
  {
   "cell_type": "code",
   "execution_count": 4,
   "metadata": {},
   "outputs": [],
   "source": [
    "from skimage.morphology import selem\n",
    "selem = selem.disk(3)\n",
    "\n",
    "def min_max_normalization(img):\n",
    "    return (img - np.min(img)) / (np.max(img) - np.min(img))\n",
    "  \n",
    "def crop_center_square(img):\n",
    "    if img.shape[1] > img.shape[0]:\n",
    "        offset_l = (img.shape[1] - img.shape[0]) / 2\n",
    "        offset_r = img.shape[1]-offset_l\n",
    "        return img[:,int(offset_l):int(offset_r),:]\n",
    "    elif img.shape[0] > img.shape[1]:\n",
    "        offset_t = (img.shape[0] - img.shape[1]) / 2\n",
    "        offset_b = img.shape[0]-offset_t\n",
    "        return img[int(offset_t):int(offset_b),:,:]\n",
    "    return img\n",
    "\n",
    "def centeredCrop(img, new_height, new_width):\n",
    "\n",
    "   width =  np.size(img,1)\n",
    "   height =  np.size(img,0)\n",
    "\n",
    "   left = int(np.ceil((width - new_width)/2.))\n",
    "   top = int(np.ceil((height - new_height)/2.))\n",
    "   \n",
    "   right = int(np.floor((width + new_width)/2.))\n",
    "   bottom = int(np.floor((height + new_height)/2.))\n",
    "   \n",
    "   cImg = img[top:bottom, left:right]\n",
    "   return cImg\n",
    "\n",
    "def convert_to_greyscale(img):\n",
    "    return np.rint(img.mean(axis=-1))\n",
    "\n",
    "def morpho_transform(img):\n",
    "    img = binary_erosion(convert_to_greyscale(img))\n",
    "    return img\n",
    "\n",
    "def generator(source_path, folder_list, batch_size):\n",
    "    print( 'Source path = ', source_path, '; batch size =', batch_size)\n",
    "    img_idx = np.arange(0,28)\n",
    "    while True:\n",
    "        t = np.random.permutation(folder_list)\n",
    "        num_batches = round(len(folder_list) / batch_size)\n",
    "        for batch in range(num_batches):\n",
    "            #print(\"batch:\",batch)# we iterate over the number of batches\n",
    "            batch_data = np.zeros((batch_size,28,150,150,1)) # x is the number of images you use for each video, (y,z) is the final size of the input images and 3 is the number of channels RGB\n",
    "            batch_labels = np.zeros((batch_size,5)) # batch_labels is the one hot representation of the output\n",
    "            for folder in range(batch_size): # iterate over the batch_size\n",
    "                imgs = os.listdir(source_path+'/'+ t[folder + (batch*batch_size)].split(';')[0]) # read all the images in the folder\n",
    "                for idx,item in enumerate(img_idx): #  Iterate iver the frames/images of a folder to read them in\n",
    "                    image = imread(source_path+'/'+ t[folder + (batch*batch_size)].strip().split(';')[0]+'/'+imgs[item]).astype(np.float32)\n",
    "                    #print(source_path+'/'+ t[folder + (batch*batch_size)].strip().split(';')[0]+'/'+imgs[item])\n",
    "                    \n",
    "                    image = crop_center_square(image)\n",
    "                    image = imresize(image, (150,150))\n",
    "                    image = min_max_normalization(image)\n",
    "                    image = morpho_transform(image)\n",
    "                    #image = binary_erosion(image,selem)\n",
    "                    \n",
    "                    batch_data[folder,idx,:,:,0] = image                \n",
    "                batch_labels[folder, int(t[folder + (batch*batch_size)].strip().split(';')[2])] = 1\n",
    "            yield batch_data, batch_labels #you yield the batch_data and the batch_labels, remember what does yield"
   ]
  },
  {
   "cell_type": "markdown",
   "metadata": {},
   "source": [
    "Note here that a video is represented above in the generator as (number of images, height, width, number of channels). Take this into consideration while creating the model architecture."
   ]
  },
  {
   "cell_type": "code",
   "execution_count": 5,
   "metadata": {},
   "outputs": [
    {
     "name": "stdout",
     "output_type": "stream",
     "text": [
      "# training sequences = 663\n",
      "# validation sequences = 100\n",
      "# epochs = 15\n"
     ]
    }
   ],
   "source": [
    "#Please set the path as per the dataset location.\n",
    "\n",
    "curr_dt_time = datetime.datetime.now()\n",
    "train_path = '/notebooks/storage/Final_data/Collated_training/train'\n",
    "val_path = '/notebooks/storage/Final_data/Collated_training/val'\n",
    "num_train_sequences = len(train_doc)\n",
    "print('# training sequences =', num_train_sequences)\n",
    "num_val_sequences = len(val_doc)\n",
    "print('# validation sequences =', num_val_sequences)\n",
    "num_epochs = 15\n",
    "print ('# epochs =', num_epochs)"
   ]
  },
  {
   "cell_type": "markdown",
   "metadata": {},
   "source": [
    "## Model\n",
    "Here you make the model using different functionalities that Keras provides. Remember to use `Conv3D` and `MaxPooling3D` and not `Conv2D` and `Maxpooling2D` for a 3D convolution model. You would want to use `TimeDistributed` while building a Conv2D + RNN model. Also remember that the last layer is the softmax. Design the network in such a way that the model is able to give good accuracy on the least number of parameters so that it can fit in the memory of the webcam."
   ]
  },
  {
   "cell_type": "code",
   "execution_count": 6,
   "metadata": {
    "scrolled": false
   },
   "outputs": [
    {
     "name": "stdout",
     "output_type": "stream",
     "text": [
      "_________________________________________________________________\n",
      "Layer (type)                 Output Shape              Param #   \n",
      "=================================================================\n",
      "conv3d_1 (Conv3D)            (None, 26, 148, 148, 32)  896       \n",
      "_________________________________________________________________\n",
      "conv3d_2 (Conv3D)            (None, 24, 73, 73, 64)    55360     \n",
      "_________________________________________________________________\n",
      "max_pooling3d_1 (MaxPooling3 (None, 8, 24, 24, 64)     0         \n",
      "_________________________________________________________________\n",
      "conv3d_3 (Conv3D)            (None, 6, 22, 22, 128)    221312    \n",
      "_________________________________________________________________\n",
      "max_pooling3d_2 (MaxPooling3 (None, 2, 7, 7, 128)      0         \n",
      "_________________________________________________________________\n",
      "flatten_1 (Flatten)          (None, 12544)             0         \n",
      "_________________________________________________________________\n",
      "dense_1 (Dense)              (None, 128)               1605760   \n",
      "_________________________________________________________________\n",
      "dense_2 (Dense)              (None, 5)                 645       \n",
      "=================================================================\n",
      "Total params: 1,883,973\n",
      "Trainable params: 1,883,973\n",
      "Non-trainable params: 0\n",
      "_________________________________________________________________\n"
     ]
    }
   ],
   "source": [
    "from keras.models import Sequential, Model\n",
    "from keras.layers import Dense,LSTM, GRU, Flatten, TimeDistributed, Flatten, BatchNormalization, Activation\n",
    "from keras.layers.convolutional import Conv2D, Conv3D, MaxPooling2D,MaxPooling3D\n",
    "from keras.layers import Dense, Dropout, Flatten\n",
    "from keras.callbacks import ModelCheckpoint, ReduceLROnPlateau\n",
    "from keras import optimizers\n",
    "import keras\n",
    "\n",
    "input_shape = (28,150, 150,1)\n",
    "num_classes = 5\n",
    "\n",
    "model = Sequential()\n",
    "\n",
    "# First convolution layer\n",
    "model.add(Conv3D(32, kernel_size=(3, 3, 3), strides=(1, 1, 1), activation='relu', input_shape= input_shape))\n",
    "\n",
    "# Second convolution layer\n",
    "model.add(Conv3D(64, kernel_size=(3, 3, 3), strides=(1, 2, 2), activation='relu'))\n",
    "model.add(MaxPooling3D(pool_size=(3, 3, 3)))\n",
    "# model.add(Dropout(0.25))\n",
    "\n",
    "model.add(Conv3D(128, kernel_size=(3, 3, 3), strides=(1, 1, 1), activation='relu'))\n",
    "model.add(MaxPooling3D(pool_size=(3, 3, 3)))\n",
    "\n",
    "model.add(Flatten())\n",
    "model.add(Dense(128, activation='relu'))\n",
    "# model.add(Dropout(0.25))\n",
    "\n",
    "model.add(Dense(5, activation='softmax'))\n",
    "\n",
    "model.summary()"
   ]
  },
  {
   "cell_type": "markdown",
   "metadata": {},
   "source": [
    "Now that you have written the model, the next step is to `compile` the model. When you print the `summary` of the model, you'll see the total number of parameters you have to train."
   ]
  },
  {
   "cell_type": "code",
   "execution_count": 7,
   "metadata": {
    "scrolled": true
   },
   "outputs": [],
   "source": [
    "optimiser = optimizers.SGD(0.01)\n",
    "model.compile(optimizer=optimiser, loss='categorical_crossentropy', metrics=['categorical_accuracy'])\n"
   ]
  },
  {
   "cell_type": "markdown",
   "metadata": {},
   "source": [
    "Let us create the `train_generator` and the `val_generator` which will be used in `.fit_generator`."
   ]
  },
  {
   "cell_type": "code",
   "execution_count": 8,
   "metadata": {},
   "outputs": [],
   "source": [
    "train_generator = generator(train_path, train_doc, batch_size)\n",
    "val_generator = generator(val_path, val_doc, batch_size)"
   ]
  },
  {
   "cell_type": "code",
   "execution_count": 9,
   "metadata": {},
   "outputs": [],
   "source": [
    "model_name = 'Conv3D_model_init' + '_' + str(curr_dt_time).replace(' ','').replace(':','_') + '/'\n",
    "    \n",
    "if not os.path.exists(model_name):\n",
    "    os.mkdir(model_name)\n",
    "        \n",
    "filepath = model_name + 'model-{epoch:05d}-{loss:.5f}-{categorical_accuracy:.5f}-{val_loss:.5f}-{val_categorical_accuracy:.5f}.h5'\n",
    "\n",
    "checkpoint = ModelCheckpoint(filepath, monitor='val_loss', verbose=1, save_best_only=False, save_weights_only=False, mode='auto', period=1)\n",
    "\n",
    "LR = ReduceLROnPlateau(patience=1)\n",
    "callbacks_list = [checkpoint, LR]"
   ]
  },
  {
   "cell_type": "markdown",
   "metadata": {},
   "source": [
    "The `steps_per_epoch` and `validation_steps` are used by `fit_generator` to decide the number of next() calls it need to make."
   ]
  },
  {
   "cell_type": "code",
   "execution_count": 10,
   "metadata": {},
   "outputs": [],
   "source": [
    "if (num_train_sequences%batch_size) == 0:\n",
    "    steps_per_epoch = int(num_train_sequences/batch_size)\n",
    "else:\n",
    "    steps_per_epoch = (num_train_sequences//batch_size) + 1\n",
    "\n",
    "if (num_val_sequences%batch_size) == 0:\n",
    "    validation_steps = int(num_val_sequences/batch_size)\n",
    "else:\n",
    "    validation_steps = (num_val_sequences//batch_size) + 1"
   ]
  },
  {
   "cell_type": "markdown",
   "metadata": {},
   "source": [
    "Let us now fit the model. This will start training the model and with the help of the checkpoints, you'll be able to save the model at the end of each epoch."
   ]
  },
  {
   "cell_type": "code",
   "execution_count": null,
   "metadata": {},
   "outputs": [
    {
     "name": "stdout",
     "output_type": "stream",
     "text": [
      "Source path = Source path =  C:\\Users\\varma\\Downloads\\Project_data\\Project_data\\train ; batch size = 10\n",
      " C:\\Users\\varma\\Downloads\\Project_data\\Project_data\\val ; batch size = Epoch 1/1510\n",
      "\n"
     ]
    },
    {
     "name": "stderr",
     "output_type": "stream",
     "text": [
      "C:\\Anaconda\\lib\\site-packages\\ipykernel\\__main__.py:52: DeprecationWarning: `imread` is deprecated!\n",
      "`imread` is deprecated in SciPy 1.0.0, and will be removed in 1.2.0.\n",
      "Use ``imageio.imread`` instead.\n",
      "C:\\Anaconda\\lib\\site-packages\\ipykernel\\__main__.py:56: DeprecationWarning: `imresize` is deprecated!\n",
      "`imresize` is deprecated in SciPy 1.0.0, and will be removed in 1.2.0.\n",
      "Use ``skimage.transform.resize`` instead.\n"
     ]
    },
    {
     "name": "stdout",
     "output_type": "stream",
     "text": [
      "67/67 [==============================] - 156s 2s/step - loss: 1.5789 - categorical_accuracy: 0.2701 - val_loss: 1.4911 - val_categorical_accuracy: 0.4200\n",
      "\n",
      "Epoch 00001: saving model to Conv3D_model_init_2018-10-2410_26_51.071797/model-00001-1.57895-0.27015-1.49108-0.42000.h5\n",
      "Epoch 2/15\n",
      "67/67 [==============================] - 142s 2s/step - loss: 1.4655 - categorical_accuracy: 0.3866 - val_loss: 1.3487 - val_categorical_accuracy: 0.4100\n",
      "\n",
      "Epoch 00002: saving model to Conv3D_model_init_2018-10-2410_26_51.071797/model-00002-1.46547-0.38657-1.34868-0.41000.h5\n",
      "Epoch 3/15\n",
      "67/67 [==============================] - 141s 2s/step - loss: 1.2282 - categorical_accuracy: 0.5149 - val_loss: 1.1786 - val_categorical_accuracy: 0.5800\n",
      "\n",
      "Epoch 00003: saving model to Conv3D_model_init_2018-10-2410_26_51.071797/model-00003-1.22819-0.51493-1.17865-0.58000.h5\n",
      "Epoch 4/15\n",
      "67/67 [==============================] - 147s 2s/step - loss: 0.9437 - categorical_accuracy: 0.6358 - val_loss: 0.9287 - val_categorical_accuracy: 0.6900\n",
      "\n",
      "Epoch 00004: saving model to Conv3D_model_init_2018-10-2410_26_51.071797/model-00004-0.94373-0.63582-0.92872-0.69000.h5\n",
      "Epoch 5/15\n",
      "67/67 [==============================] - 154s 2s/step - loss: 0.6588 - categorical_accuracy: 0.7582 - val_loss: 1.1925 - val_categorical_accuracy: 0.5600\n",
      "\n",
      "Epoch 00005: saving model to Conv3D_model_init_2018-10-2410_26_51.071797/model-00005-0.65881-0.75821-1.19253-0.56000.h5\n",
      "Epoch 6/15\n",
      "31/67 [============>.................] - ETA: 1:25 - loss: 0.3724 - categorical_accuracy: 0.8839"
     ]
    }
   ],
   "source": [
    "model.fit_generator(train_generator, steps_per_epoch=steps_per_epoch, epochs=num_epochs, verbose=1,callbacks=callbacks_list, \n",
    "                     validation_data=val_generator,validation_steps=validation_steps, class_weight=None, workers=1, initial_epoch=0)"
   ]
  },
  {
   "cell_type": "code",
   "execution_count": null,
   "metadata": {},
   "outputs": [],
   "source": [
    "#Reference\n",
    "'''\n",
    "CNNLSTM_Model = Sequential()\n",
    "\n",
    "\n",
    "# define CNN model\n",
    "CNNLSTM_Model.add(TimeDistributed(Conv2D(32, kernel_size=(3, 3), strides=(1, 1), activation='relu')\n",
    "                                  ,input_shape=input_shape,name = \"TimeDist_Conv2D_32\")) \n",
    "\n",
    "CNNLSTM_Model.add(TimeDistributed(Conv2D(64, kernel_size=(3, 3), strides=(1, 1), activation='relu'),name = \"TimeDist_Conv2D_64\"))\n",
    "#CNNLSTM_Model.add(TimeDistributed(BatchNormalization(),name = \"batc_1\"))\n",
    "CNNLSTM_Model.add(TimeDistributed(MaxPooling2D(pool_size=(2, 2)),name = \"TimeDist_MaxPool\"))\n",
    "#CNNLSTM_Model.add(TimeDistributed(Dropout(0.20), name = \"Drop_out_1\"))\n",
    "\n",
    "CNNLSTM_Model.add(TimeDistributed(Conv2D(128, kernel_size=(3, 3), strides=(1, 1), activation='relu'),name = \"TimeDist_Conv2D_128\"))\n",
    "CNNLSTM_Model.add(TimeDistributed(MaxPooling2D(pool_size=(2, 2)),name = \"TimeDist_MaxPool_2\"))\n",
    "\n",
    "\n",
    "CNNLSTM_Model.add(TimeDistributed(Conv2D(64, kernel_size=(3, 3), strides=(1, 1), activation='relu'),name = \"TimeDist_Conv2D_64_2\"))\n",
    "\n",
    "\n",
    "CNNLSTM_Model.add(TimeDistributed(Flatten(),name = \"TimeDist_Flatten\"))\n",
    "\n",
    "# define LSTM model\n",
    "CNNLSTM_Model.add(LSTM(128, return_sequences=True, name = \"LSTM_128\"))\n",
    "\n",
    "CNNLSTM_Model.add(LSTM(64, return_sequences=False, name = \"LSTM_64_2\"))\n",
    "\n",
    "#CNNLSTM_Model.add(Dense(num_classes, activation='softmax'))\n",
    "\n",
    "#CNNLSTM_Model.add(GRU(128, return_sequences=True, name = \"GRU_128\"))\n",
    "#CNNLSTM_Model.add(GRU(64, return_sequences=False, name = \"GRU_64\"))\n",
    "\n",
    "#model.add(Dense(64, activation='relu'))\n",
    "CNNLSTM_Model.add(Dense(5, activation='softmax'))\n",
    "\n",
    "print(CNNLSTM_Model.summary())\n",
    "'''"
   ]
  },
  {
   "cell_type": "code",
   "execution_count": null,
   "metadata": {},
   "outputs": [],
   "source": []
  }
 ],
 "metadata": {
  "kernelspec": {
   "display_name": "Python 3",
   "language": "python",
   "name": "python3"
  },
  "language_info": {
   "codemirror_mode": {
    "name": "ipython",
    "version": 3
   },
   "file_extension": ".py",
   "mimetype": "text/x-python",
   "name": "python",
   "nbconvert_exporter": "python",
   "pygments_lexer": "ipython3",
   "version": "3.6.5"
  }
 },
 "nbformat": 4,
 "nbformat_minor": 2
}
